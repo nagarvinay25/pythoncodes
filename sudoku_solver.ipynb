{
 "cells": [
  {
   "cell_type": "code",
   "execution_count": null,
   "id": "a5f22bb3",
   "metadata": {},
   "outputs": [],
   "source": [
    "import numpy as np\n",
    "\n",
    "sudoku=[[5,3,0,0,7,0,0,0,0],\n",
    "        [6,0,0,1,9,5,0,0,0],\n",
    "        [0,9,8,0,0,0,0,6,0],\n",
    "        [8,0,0,0,6,0,0,0,3],\n",
    "        [4,0,0,8,0,3,0,0,1],\n",
    "        [7,0,0,0,2,0,0,0,6],\n",
    "        [0,6,0,0,0,0,2,8,0],\n",
    "        [0,0,0,4,1,9,0,0,5],\n",
    "        [0,0,0,0,8,0,0,7,9]]\n",
    "\n",
    "def possible(y,x,n):\n",
    "    global sudoku\n",
    "    for i in range(0,9):\n",
    "        if sudoku[y][i]==n:\n",
    "            return False\n",
    "    for i in range(0,9):\n",
    "        if sudoku[i][x]==n:\n",
    "            return False\n",
    "    x0=(x//3)*3\n",
    "    y0=(y//3)*3\n",
    "    for i in range(0,3):\n",
    "        for j in range(0,3):\n",
    "            if sudoku[y0+i][x0+j]==n:\n",
    "                return False\n",
    "    return True \n",
    "\n",
    "def solve():\n",
    "    global sudoku\n",
    "    for y in range(9):\n",
    "        for x in range(9):\n",
    "            if sudoku[y][x]==0:\n",
    "                for n in range(1,10):\n",
    "                    if possible(y,x,n):\n",
    "                        sudoku[y][x]=n\n",
    "                        solve()\n",
    "                        sudoku[y][x]=0\n",
    "                return\n",
    "    print(np.matrix(sudoku))\n",
    "    input(\"try solving another\") \n",
    "    \n",
    "solve()    \n",
    "    \n",
    "          "
   ]
  }
 ],
 "metadata": {
  "kernelspec": {
   "display_name": "Python 3",
   "language": "python",
   "name": "python3"
  },
  "language_info": {
   "codemirror_mode": {
    "name": "ipython",
    "version": 3
   },
   "file_extension": ".py",
   "mimetype": "text/x-python",
   "name": "python",
   "nbconvert_exporter": "python",
   "pygments_lexer": "ipython3",
   "version": "3.8.8"
  }
 },
 "nbformat": 4,
 "nbformat_minor": 5
}
